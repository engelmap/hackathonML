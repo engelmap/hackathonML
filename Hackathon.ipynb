{
 "cells": [
  {
   "cell_type": "code",
   "execution_count": 49,
   "id": "207ee8e6-aead-406a-b875-1dade0657d10",
   "metadata": {},
   "outputs": [],
   "source": [
    "import numpy as np\n",
    "import scipy.stats as stats\n",
    "import pandas as pd\n",
    "\n",
    "from sklearn.feature_selection import SelectKBest\n",
    "from sklearn.feature_selection import chi2, f_regression\n",
    "from sklearn.preprocessing import StandardScaler\n",
    "\n",
    "#Data Cleaning\n",
    "\n",
    "data = pd.read_csv(\"train.csv\")\n",
    "\n",
    "#Entferne alle von H als Outlier markierte Zeilen\n",
    "data = data.drop(data[data[\"H\"] == 1].index)\n",
    "data = data.drop(\"H\", axis=\"columns\")\n",
    "\n",
    "#Entferne weitere Outlier aus den restlichen Spalten\n",
    "Q1 = data.quantile(q=.25)\n",
    "Q3 = data.quantile(q=.75)\n",
    "\n",
    "IQR = data.apply(stats.iqr)\n",
    "\n",
    "data_clean = data[~((data < (Q1-1.5*IQR)) | (data > (Q3+1.5*IQR))).any(axis=1)]\n",
    "\n",
    "#Entfernt alle Columns, bei welchen es nur Nullwerte gibt (nutzlose Werte?)\n",
    "for (column_name, column_data) in data_clean.iteritems():\n",
    "    all_zero = (column_data == 0).all()\n",
    "    if all_zero and column_name != \"Target\" :\n",
    "        data_clean = data_clean.drop(column_name, axis=\"columns\")\n",
    "\n",
    "#In data clean gespeichert\n",
    "data_clean.to_csv(\"cleantrain.csv\", index=False)\n",
    "\n"
   ]
  },
  {
   "cell_type": "code",
   "execution_count": 55,
   "id": "0d2d3a18-ea86-4b08-a127-8690c7cca0f6",
   "metadata": {},
   "outputs": [
    {
     "name": "stdout",
     "output_type": "stream",
     "text": [
      "[[-0.55365981 -1.0773758  -0.77534241  0.58572828 -1.19084034]\n",
      " [-0.55365981 -0.18737442 -0.92825395  1.92074697 -1.21285868]\n",
      " [-0.55365981  1.73762855  2.18844289 -0.69195649 -0.62436836]\n",
      " ...\n",
      " [-0.55365981 -1.00070901 -0.98222272  1.09044496 -1.20285034]\n",
      " [-0.55365981  1.64096174 -0.31660781  1.14332287 -1.20485201]\n",
      " [ 0.03518003  0.87262722 -0.67190226  0.10566816 -0.5042683 ]]\n"
     ]
    }
   ],
   "source": [
    "#Normalisieren (mean = 0, variance = 1)\n",
    "from sklearn.preprocessing import StandardScaler\n",
    "\n",
    "features = ['A1', 'F', 'G', 'I', 'A2']\n",
    "x = data_clean.loc[:, features].values\n",
    "y = data_clean.loc[:, ['Target']].values\n",
    "\n",
    "x = StandardScaler().fit_transform(x)\n",
    "\n",
    "print(x)\n",
    "\n",
    "# Cross validation to figure out best combination of feature selection without overfitting\n",
    "# Split data in training / test\n",
    "# perform PCA instead?\n",
    "\n",
    "# #Feature Selection mit chi squared und SelectKBest\n",
    "# selector = SelectKBest(score_func=f_regression, k=4)\n",
    "# fit = selector.fit_transform(x, y)\n",
    "# cols = selector.get_support(indices=True)\n",
    "# data_clean_selected = data_clean.iloc[:,cols]\n",
    "\n",
    "# data_clean_selected\n",
    "\n",
    "#PCA?\n",
    "    \n",
    "\n",
    "\n"
   ]
  },
  {
   "cell_type": "code",
   "execution_count": null,
   "id": "e717fb4e-6d86-4276-9d9e-edb89e7f018b",
   "metadata": {},
   "outputs": [],
   "source": []
  }
 ],
 "metadata": {
  "kernelspec": {
   "display_name": "Python 3",
   "language": "python",
   "name": "python3"
  },
  "language_info": {
   "codemirror_mode": {
    "name": "ipython",
    "version": 3
   },
   "file_extension": ".py",
   "mimetype": "text/x-python",
   "name": "python",
   "nbconvert_exporter": "python",
   "pygments_lexer": "ipython3",
   "version": "3.8.8"
  }
 },
 "nbformat": 4,
 "nbformat_minor": 5
}
