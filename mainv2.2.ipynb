{
 "cells": [
  {
   "cell_type": "markdown",
   "id": "71fc1147-b775-4b7b-b705-4465369d983d",
   "metadata": {},
   "source": [
    "# Import Libraries"
   ]
  },
  {
   "cell_type": "code",
   "execution_count": 17,
   "id": "c9638cdf",
   "metadata": {},
   "outputs": [
    {
     "name": "stdout",
     "output_type": "stream",
     "text": [
      "The autoreload extension is already loaded. To reload it, use:\n",
      "  %reload_ext autoreload\n"
     ]
    }
   ],
   "source": [
    "import numpy as np\n",
    "import pandas as pd\n",
    "%load_ext autoreload\n",
    "%autoreload 2\n",
    "import custom_functions as cf\n",
    "import tensorflow as tf\n",
    "from tensorflow.keras import layers\n",
    "from sklearn import metrics\n",
    "import math\n",
    "import scipy.stats as stats\n",
    "import matplotlib.pyplot as plt\n",
    "import seaborn as sn"
   ]
  },
  {
   "cell_type": "markdown",
   "id": "591713c5-410e-4826-aeb7-0bc8fcaf092d",
   "metadata": {},
   "source": [
    "## Define functions "
   ]
  },
  {
   "cell_type": "code",
   "execution_count": 2,
   "id": "68b640f9-4ddf-47fc-9261-e4635da0c94b",
   "metadata": {},
   "outputs": [],
   "source": [
    "#-------------------------------------------Data Preparation -------------------------------------------------------------------------#\n",
    "def Remove_Outlier_Indices(df):\n",
    "    Q1 = df.quantile(0.25)\n",
    "    Q3 = df.quantile(0.75)\n",
    "    IQR = Q3 - Q1\n",
    "    trueList = ~((df < (Q1 - 1.5 * IQR)) |(df > (Q3 + 1.5 * IQR)))\n",
    "    return trueList\n",
    "#-------------------------------------------Visualization-----------------------------------------------------------------------------#\n",
    "\n",
    "def plot_confu_matrix(cm, datatype=None, dataset=None, path = 'confusion_matrix.png'):\n",
    "    \"\"\"\n",
    "    Returns a matplotlib figure containing the plotted confusion matrix.\n",
    "\n",
    "    Args:\n",
    "      cm (array, shape = [n, n]): a confusion matrix of integer classes\n",
    "      class_names (array, shape = [n]): String names of the integer classes\n",
    "    \"\"\"\n",
    "    fig = plt.figure(figsize=(8, 6))       # size in inches\n",
    "    # use plot(), etc. to create your plot.\n",
    "    df_cm = pd.DataFrame(cm, ('0','1'), ('0','1'))\n",
    "    sn.set(font_scale=1.4) # for label size\n",
    "    sn.heatmap(df_cm, annot=True, annot_kws={\"size\": 16},fmt=\"d\") # font size and decimal appearance\n",
    "    plt.xlabel('predicted')\n",
    "    plt.ylabel('true label')\n",
    "    if dataset is not None:\n",
    "        plt.title('conf_matrix based on {} data of {} dataset'.format(datatype,dataset))\n",
    "    #plt.show()\n",
    "    plt.savefig(path)\n",
    "    #return fig\n",
    "#------------------------------------ Network Models ---------------------------------------------------------------------------------#   \n",
    "def denseModel():\n",
    "    input_shape =  (cols-1)\n",
    "    dropout = 0.2\n",
    "    \n",
    "    inputs = tf.keras.Input(shape = input_shape) \n",
    "    x = layers.Flatten()(inputs)\n",
    "    x = layers.Dense(128)(x)\n",
    "    x = layers.Activation('relu')(x)\n",
    "    if dropout is not None:\n",
    "        x = layers.Dropout(rate = dropout)(x)\n",
    "\n",
    "    x = layers.Dense(32)(x)\n",
    "    x = layers.Activation('relu')(x)   \n",
    "    if dropout is not None:\n",
    "        x = layers.Dropout(rate = dropout)(x)\n",
    "\n",
    "    x = layers.Dense(2)(x)\n",
    "\n",
    "    outputs = layers.Activation('softmax')(x)\n",
    "    model = tf.keras.models.Model(inputs=inputs, outputs=outputs)    \n",
    "    model.summary()\n",
    "    return model"
   ]
  },
  {
   "cell_type": "markdown",
   "id": "cdabfe56-4e2a-4481-aed9-3482dc4d2827",
   "metadata": {},
   "source": [
    "# Main Code"
   ]
  },
  {
   "cell_type": "code",
   "execution_count": 3,
   "id": "80b94ebf",
   "metadata": {},
   "outputs": [],
   "source": [
    "#['A1','B1','C1','C3','D1','E1','F','G','H','I','D2','E2','A2','B2','C2','Target']\n",
    "\n",
    "# ----- IMPORT DATA --------\n",
    "data_set = pd.read_csv('train.csv', header=0)\n"
   ]
  },
  {
   "cell_type": "markdown",
   "id": "4b975cf7-99ad-4d20-9b5a-31567ee5bc82",
   "metadata": {},
   "source": [
    "Ziel:\n",
    "Binäre Klassifikation von Daten, Zielvariable: Spalte \"Target\"\n",
    "\n",
    "A1, B1, C1, C3, D1, E1:\n",
    "Anzahl der Treffer einer Datenbanksuche\n",
    "\n",
    "F, I:\n",
    "Absolute Werte\n",
    "\n",
    "G:\n",
    "Differenz vom Median von F (gruppiert nach einem fehlenden Wert)\n",
    "\n",
    "H:\n",
    "Outlier von F (gruppiert nach einem fehlenden Wert)\n",
    "\n",
    "A2, B2, C2, D2, E2:\n",
    "Ist der Quotient von A1, B1, C1, D1, E2 mit I\n",
    "\n",
    "--> Nutze: A2, B2, C2, D2, E2 und G/F und H? C3?\n"
   ]
  },
  {
   "cell_type": "markdown",
   "id": "149b0d93-35b8-439d-9da8-eacbf3bb8fb8",
   "metadata": {},
   "source": [
    "## Data Preparation and visualization"
   ]
  },
  {
   "cell_type": "code",
   "execution_count": 25,
   "id": "b790f18a-5486-469e-a23e-84d1d26c0a1c",
   "metadata": {},
   "outputs": [
    {
     "data": {
      "text/html": [
       "<div>\n",
       "<style scoped>\n",
       "    .dataframe tbody tr th:only-of-type {\n",
       "        vertical-align: middle;\n",
       "    }\n",
       "\n",
       "    .dataframe tbody tr th {\n",
       "        vertical-align: top;\n",
       "    }\n",
       "\n",
       "    .dataframe thead th {\n",
       "        text-align: right;\n",
       "    }\n",
       "</style>\n",
       "<table border=\"1\" class=\"dataframe\">\n",
       "  <thead>\n",
       "    <tr style=\"text-align: right;\">\n",
       "      <th></th>\n",
       "      <th>A2</th>\n",
       "      <th>B2</th>\n",
       "      <th>C2</th>\n",
       "      <th>C3</th>\n",
       "      <th>D2</th>\n",
       "      <th>E2</th>\n",
       "      <th>F</th>\n",
       "      <th>H</th>\n",
       "      <th>Target</th>\n",
       "    </tr>\n",
       "  </thead>\n",
       "  <tbody>\n",
       "    <tr>\n",
       "      <th>count</th>\n",
       "      <td>41131.000000</td>\n",
       "      <td>41131.000000</td>\n",
       "      <td>41131.000000</td>\n",
       "      <td>41131.000000</td>\n",
       "      <td>41131.000000</td>\n",
       "      <td>41131.000000</td>\n",
       "      <td>41131.000000</td>\n",
       "      <td>41131.000000</td>\n",
       "      <td>41131.000000</td>\n",
       "    </tr>\n",
       "    <tr>\n",
       "      <th>mean</th>\n",
       "      <td>7.049193</td>\n",
       "      <td>1.708223</td>\n",
       "      <td>15.316366</td>\n",
       "      <td>0.159393</td>\n",
       "      <td>0.387565</td>\n",
       "      <td>0.106687</td>\n",
       "      <td>41.876803</td>\n",
       "      <td>0.240962</td>\n",
       "      <td>0.003185</td>\n",
       "    </tr>\n",
       "    <tr>\n",
       "      <th>std</th>\n",
       "      <td>5.907019</td>\n",
       "      <td>33.857118</td>\n",
       "      <td>148.465403</td>\n",
       "      <td>1.798269</td>\n",
       "      <td>7.683818</td>\n",
       "      <td>2.532320</td>\n",
       "      <td>9.519752</td>\n",
       "      <td>0.427672</td>\n",
       "      <td>0.056346</td>\n",
       "    </tr>\n",
       "    <tr>\n",
       "      <th>min</th>\n",
       "      <td>0.000000</td>\n",
       "      <td>0.000000</td>\n",
       "      <td>0.000000</td>\n",
       "      <td>0.000000</td>\n",
       "      <td>0.000000</td>\n",
       "      <td>0.000000</td>\n",
       "      <td>0.000000</td>\n",
       "      <td>0.000000</td>\n",
       "      <td>0.000000</td>\n",
       "    </tr>\n",
       "    <tr>\n",
       "      <th>25%</th>\n",
       "      <td>2.470000</td>\n",
       "      <td>0.000000</td>\n",
       "      <td>0.000000</td>\n",
       "      <td>0.000000</td>\n",
       "      <td>0.000000</td>\n",
       "      <td>0.000000</td>\n",
       "      <td>36.170000</td>\n",
       "      <td>0.000000</td>\n",
       "      <td>0.000000</td>\n",
       "    </tr>\n",
       "    <tr>\n",
       "      <th>50%</th>\n",
       "      <td>6.110000</td>\n",
       "      <td>0.000000</td>\n",
       "      <td>0.000000</td>\n",
       "      <td>0.000000</td>\n",
       "      <td>0.000000</td>\n",
       "      <td>0.000000</td>\n",
       "      <td>40.940000</td>\n",
       "      <td>0.000000</td>\n",
       "      <td>0.000000</td>\n",
       "    </tr>\n",
       "    <tr>\n",
       "      <th>75%</th>\n",
       "      <td>9.725000</td>\n",
       "      <td>0.000000</td>\n",
       "      <td>0.000000</td>\n",
       "      <td>0.000000</td>\n",
       "      <td>0.000000</td>\n",
       "      <td>0.000000</td>\n",
       "      <td>47.340000</td>\n",
       "      <td>0.000000</td>\n",
       "      <td>0.000000</td>\n",
       "    </tr>\n",
       "    <tr>\n",
       "      <th>max</th>\n",
       "      <td>54.200000</td>\n",
       "      <td>2491.460000</td>\n",
       "      <td>4206.460000</td>\n",
       "      <td>203.000000</td>\n",
       "      <td>287.360000</td>\n",
       "      <td>294.460000</td>\n",
       "      <td>99.880000</td>\n",
       "      <td>1.000000</td>\n",
       "      <td>1.000000</td>\n",
       "    </tr>\n",
       "  </tbody>\n",
       "</table>\n",
       "</div>"
      ],
      "text/plain": [
       "                 A2            B2            C2            C3            D2  \\\n",
       "count  41131.000000  41131.000000  41131.000000  41131.000000  41131.000000   \n",
       "mean       7.049193      1.708223     15.316366      0.159393      0.387565   \n",
       "std        5.907019     33.857118    148.465403      1.798269      7.683818   \n",
       "min        0.000000      0.000000      0.000000      0.000000      0.000000   \n",
       "25%        2.470000      0.000000      0.000000      0.000000      0.000000   \n",
       "50%        6.110000      0.000000      0.000000      0.000000      0.000000   \n",
       "75%        9.725000      0.000000      0.000000      0.000000      0.000000   \n",
       "max       54.200000   2491.460000   4206.460000    203.000000    287.360000   \n",
       "\n",
       "                 E2             F             H        Target  \n",
       "count  41131.000000  41131.000000  41131.000000  41131.000000  \n",
       "mean       0.106687     41.876803      0.240962      0.003185  \n",
       "std        2.532320      9.519752      0.427672      0.056346  \n",
       "min        0.000000      0.000000      0.000000      0.000000  \n",
       "25%        0.000000     36.170000      0.000000      0.000000  \n",
       "50%        0.000000     40.940000      0.000000      0.000000  \n",
       "75%        0.000000     47.340000      0.000000      0.000000  \n",
       "max      294.460000     99.880000      1.000000      1.000000  "
      ]
     },
     "execution_count": 25,
     "metadata": {},
     "output_type": "execute_result"
    }
   ],
   "source": [
    "# ---------- DELETE REDUNDANT FEATURES ---------------------------\n",
    "data = data_set[['A2', 'B2', 'C2','C3', 'D2','E2', 'F', 'H', 'Target']] \n",
    "data.describe()"
   ]
  },
  {
   "cell_type": "code",
   "execution_count": 26,
   "id": "6db71475-6585-4caf-9cd3-88ec78f975df",
   "metadata": {},
   "outputs": [
    {
     "name": "stdout",
     "output_type": "stream",
     "text": [
      "118  out of 131 Samples with label \"1\" have been kept\n"
     ]
    }
   ],
   "source": [
    "# ----------------- REMOVE OUTLIER ---------------------------\n",
    "''' Remove only Outlier for Features A2 and F because otherwise all or near to all samples with Label(Target) == 1 get removed! '''\n",
    "cleaned = data\n",
    "for colName in ['A2','F']:\n",
    "    # Index List of Non-Outliers\n",
    "    nonOutlierList = Remove_Outlier_Indices(cleaned[colName])\n",
    "    # Non-Outlier Subset of the Given Dataset\n",
    "    cleaned = cleaned[nonOutlierList]\n",
    "\n",
    "#--------- VISUALIZE CLEANED DATA -------------------    \n",
    "c= 0\n",
    "for i in cleaned.Target.iteritems():\n",
    "\n",
    "    if i[1] == 1:\n",
    "        c+=1\n",
    "\n",
    "print(c, ' out of 131 Samples with label \"1\" have been kept')\n",
    "# cleaned.describe()"
   ]
  },
  {
   "cell_type": "code",
   "execution_count": 27,
   "id": "15348f4d-e561-41c0-a044-54a15fa8a309",
   "metadata": {},
   "outputs": [],
   "source": [
    "# ------------- MIN MAX NORMALIZATION --------------------------\n",
    "# copy the data\n",
    "scaled = cleaned.copy()\n",
    "\n",
    "# apply normalization techniques\n",
    "for column in scaled.columns:\n",
    "    scaled[column] = (scaled[column] - scaled[column].abs().min()) / (scaled[column].abs().max() - scaled[column].abs().min())\n",
    "\n",
    "# view normalized data\n",
    "#scaled.describe()\n"
   ]
  },
  {
   "cell_type": "markdown",
   "id": "a4ce8a39-37c6-403c-afdd-f509dfae3893",
   "metadata": {},
   "source": [
    "### Upsampling for neural network "
   ]
  },
  {
   "cell_type": "code",
   "execution_count": 28,
   "id": "3d544edd-2013-4594-9baa-5a01bdfd083a",
   "metadata": {},
   "outputs": [
    {
     "name": "stdout",
     "output_type": "stream",
     "text": [
      "number of features:  8\n",
      "Percentage of samples class 1:  0.44894467655957354\n"
     ]
    }
   ],
   "source": [
    "'''As the data set consists of less than 1 percent samples with label == 1, we simply extend the training set with multiple copies of those samples such that its percentage is ~ 50 %  '''\n",
    "\n",
    "df = scaled\n",
    "#shuffle data rows\n",
    "df = df.sample(frac=1)\n",
    "\n",
    "#train test split\n",
    "n = int(0.8 * len(df))\n",
    "cols = len(df.columns)\n",
    "print('number of features: ', cols-1)\n",
    "train = df.iloc[0:n, :]\n",
    "test = df.iloc[n: , :]\n",
    "\n",
    "#make copy of x_train for upsampling, this way we can use the original set for validation/analysis purposes later on\n",
    "df_train = train.copy()\n",
    "\n",
    "# get row indices of samples with label '1'\n",
    "c = 0\n",
    "indices = []\n",
    "for index, series in df_train.iterrows():        #Iterate over DataFrame rows as (index, Series) pairs.\n",
    "    if series.Target == 1:\n",
    "        c += 1\n",
    "        indices.append(index)\n",
    "        \n",
    "samples =[]\n",
    "for i in indices:\n",
    "    samples.append(df_train.loc[i])\n",
    "samples = pd.DataFrame(samples)\n",
    "\n",
    "\n",
    "Nupsample = 8\n",
    "for n in range(Nupsample):\n",
    "    samples = samples.append(samples)\n",
    "#append samples to original set\n",
    "df_train = df_train.append(samples)\n",
    "\n",
    "print('Percentage of samples class 1: ',sum(df_train.Target)/len(df_train.Target))"
   ]
  },
  {
   "cell_type": "code",
   "execution_count": 29,
   "id": "fdb8c63c-085f-436b-9122-6d4a201e92d9",
   "metadata": {},
   "outputs": [],
   "source": [
    "#df_train"
   ]
  },
  {
   "cell_type": "code",
   "execution_count": 10,
   "id": "be2079bf",
   "metadata": {},
   "outputs": [
    {
     "name": "stdout",
     "output_type": "stream",
     "text": [
      "number of samples class 1:  25974.0\n"
     ]
    }
   ],
   "source": [
    "# ------------ SOME LAST PREPARATION BEFORE TRAINIGN ---------------------------\n",
    "\n",
    "#split features and labels\n",
    "x_train = df_train.iloc[ : , : cols-1]\n",
    "y_train = df_train.iloc[ : , cols-1]\n",
    "x_test = test.iloc[ : , : cols-1]\n",
    "y_test = test.iloc[ : , cols-1]\n",
    "\n",
    "# ------------ ONE HOT ENCODE LABELS ------------------------------------------\n",
    "Y_train = tf.keras.utils.to_categorical(y_train, 2)\n",
    "Y_test = tf.keras.utils.to_categorical(y_test, 2)\n",
    "print('number of samples class 1: ',sum(y_train)+sum(y_test))"
   ]
  },
  {
   "cell_type": "markdown",
   "id": "478ba50d-b225-489c-ada8-3b60b2ffa9d9",
   "metadata": {},
   "source": [
    "## Build Network Model"
   ]
  },
  {
   "cell_type": "code",
   "execution_count": 34,
   "id": "76d4e2c1",
   "metadata": {},
   "outputs": [
    {
     "name": "stdout",
     "output_type": "stream",
     "text": [
      "Model: \"functional_5\"\n",
      "_________________________________________________________________\n",
      "Layer (type)                 Output Shape              Param #   \n",
      "=================================================================\n",
      "input_3 (InputLayer)         [(None, 8)]               0         \n",
      "_________________________________________________________________\n",
      "flatten_2 (Flatten)          (None, 8)                 0         \n",
      "_________________________________________________________________\n",
      "dense_6 (Dense)              (None, 128)               1152      \n",
      "_________________________________________________________________\n",
      "activation_6 (Activation)    (None, 128)               0         \n",
      "_________________________________________________________________\n",
      "dropout_4 (Dropout)          (None, 128)               0         \n",
      "_________________________________________________________________\n",
      "dense_7 (Dense)              (None, 32)                4128      \n",
      "_________________________________________________________________\n",
      "activation_7 (Activation)    (None, 32)                0         \n",
      "_________________________________________________________________\n",
      "dropout_5 (Dropout)          (None, 32)                0         \n",
      "_________________________________________________________________\n",
      "dense_8 (Dense)              (None, 2)                 66        \n",
      "_________________________________________________________________\n",
      "activation_8 (Activation)    (None, 2)                 0         \n",
      "=================================================================\n",
      "Total params: 5,346\n",
      "Trainable params: 5,346\n",
      "Non-trainable params: 0\n",
      "_________________________________________________________________\n"
     ]
    }
   ],
   "source": [
    "model = denseModel()\n",
    "lr = 0.0001\n",
    "optimizer = tf.keras.optimizers.Adam(lr=lr) \n",
    "                                            #beta_1 = config.beta_1, \n",
    "                                            #beta_2 = config.beta_2,\n",
    "                                            #epsilon = config.epsilon) \n",
    "lossfct = tf.keras.losses.BinaryCrossentropy(from_logits = True)\n",
    "model.compile(optimizer = optimizer, loss = lossfct)"
   ]
  },
  {
   "cell_type": "markdown",
   "id": "01ed1fe9-fd61-4c8b-b85e-6eaa7830601e",
   "metadata": {},
   "source": [
    "## Train Model"
   ]
  },
  {
   "cell_type": "code",
   "execution_count": 35,
   "id": "6ff3634f-6f71-4ab6-9d72-e895be0127bd",
   "metadata": {},
   "outputs": [
    {
     "name": "stdout",
     "output_type": "stream",
     "text": [
      "Epoch 1/15\n",
      "1768/1768 [==============================] - 2s 1ms/step - loss: 0.6266 - val_loss: 0.5676\n",
      "Epoch 2/15\n",
      "1768/1768 [==============================] - 2s 1ms/step - loss: 0.5557 - val_loss: 0.5279\n",
      "Epoch 3/15\n",
      "1768/1768 [==============================] - 2s 1ms/step - loss: 0.5248 - val_loss: 0.5132\n",
      "Epoch 4/15\n",
      "1768/1768 [==============================] - 2s 1ms/step - loss: 0.5152 - val_loss: 0.5085\n",
      "Epoch 5/15\n",
      "1768/1768 [==============================] - 2s 1ms/step - loss: 0.5123 - val_loss: 0.5078\n",
      "Epoch 6/15\n",
      "1768/1768 [==============================] - 2s 1ms/step - loss: 0.5109 - val_loss: 0.5084\n",
      "Epoch 7/15\n",
      "1768/1768 [==============================] - 2s 1ms/step - loss: 0.5102 - val_loss: 0.5077\n",
      "Epoch 8/15\n",
      "1768/1768 [==============================] - 2s 1ms/step - loss: 0.5096 - val_loss: 0.5075\n",
      "Epoch 9/15\n",
      "1768/1768 [==============================] - 2s 1ms/step - loss: 0.5092 - val_loss: 0.5077\n",
      "Epoch 10/15\n",
      "1768/1768 [==============================] - 2s 1ms/step - loss: 0.5090 - val_loss: 0.5073\n",
      "Epoch 11/15\n",
      "1768/1768 [==============================] - 2s 1ms/step - loss: 0.5087 - val_loss: 0.5077\n",
      "Epoch 12/15\n",
      "1768/1768 [==============================] - 2s 1ms/step - loss: 0.5085 - val_loss: 0.5075\n",
      "Epoch 13/15\n",
      "1768/1768 [==============================] - 2s 1ms/step - loss: 0.5083 - val_loss: 0.5078\n",
      "Epoch 14/15\n",
      "1768/1768 [==============================] - 2s 1ms/step - loss: 0.5081 - val_loss: 0.5072\n",
      "Epoch 15/15\n",
      "1768/1768 [==============================] - 2s 1ms/step - loss: 0.5080 - val_loss: 0.5072\n",
      "saved training log\n"
     ]
    },
    {
     "data": {
      "text/plain": [
       "[<matplotlib.lines.Line2D at 0x1f85f193d00>]"
      ]
     },
     "execution_count": 35,
     "metadata": {},
     "output_type": "execute_result"
    },
    {
     "data": {
      "image/png": "[encoded data removed]",
      "text/plain": [
       "<Figure size 432x288 with 1 Axes>"
      ]
     },
     "metadata": {},
     "output_type": "display_data"
    }
   ],
   "source": [
    "# -------------- TRAIN MODEL ---------------------------------------------------\n",
    "history = model.fit(x_train , Y_train , epochs = 15 , validation_data = ( x_test , Y_test), batch_size = 32)\n",
    "model.save(\"model.h5\")\n",
    "log = pd.DataFrame(history.history)\n",
    "log.to_csv(\"train_log.csv\",index=False)\n",
    "print(\"saved training log\")\n",
    "\n",
    "# --------------- VISUALIZE TRAINING PROCESS ------------\n",
    "plt.plot(history.history['loss'])\n",
    "plt.plot(history.history['val_loss'])"
   ]
  },
  {
   "cell_type": "markdown",
   "id": "9521ecc0-7c24-4987-90e5-a6554a7360bf",
   "metadata": {},
   "source": [
    "## Validation and Performance Analysis"
   ]
  },
  {
   "cell_type": "code",
   "execution_count": 36,
   "id": "1fb2a96b",
   "metadata": {},
   "outputs": [
    {
     "name": "stdout",
     "output_type": "stream",
     "text": [
      "Accuracy on test data:  0.9917915309446254\n",
      "Accuracy on train data:  0.9913000424388174\n"
     ]
    }
   ],
   "source": [
    "# ------ LOAD MODEL ---------\n",
    "lmodel = tf.keras.models.load_model('model.h5')\n",
    "\n",
    "# ------- ACCURACIES ------------------------------\n",
    "y_pred = np.argmax(lmodel.predict(x_test), axis=1)\n",
    "y_pred_train = np.argmax(lmodel.predict(x_train), axis=1)\n",
    "print('Accuracy on test data: ',metrics.accuracy_score(y_test,y_pred))\n",
    "print('Accuracy on train data: ',metrics.accuracy_score(y_train,y_pred_train))"
   ]
  },
  {
   "cell_type": "code",
   "execution_count": 37,
   "id": "a6383610-865c-4e62-acbc-3beee06d8a7a",
   "metadata": {},
   "outputs": [
    {
     "data": {
      "image/png": "[encoded data removed]",
      "text/plain": [
       "<Figure size 576x432 with 2 Axes>"
      ]
     },
     "metadata": {},
     "output_type": "display_data"
    }
   ],
   "source": [
    "# ---------- CONFUSION MATRIX -----------------\n",
    "y_pred = np.argmax(lmodel.predict(x_test), axis=1)\n",
    "\n",
    "cm = metrics.confusion_matrix(y_true = y_test,y_pred = y_pred)\n",
    "plot_confu_matrix(cm)"
   ]
  }
 ],
 "metadata": {
  "kernelspec": {
   "display_name": "Python 3",
   "language": "python",
   "name": "python3"
  },
  "language_info": {
   "codemirror_mode": {
    "name": "ipython",
    "version": 3
   },
   "file_extension": ".py",
   "mimetype": "text/x-python",
   "name": "python",
   "nbconvert_exporter": "python",
   "pygments_lexer": "ipython3",
   "version": "3.8.8"
  }
 },
 "nbformat": 4,
 "nbformat_minor": 5
}
